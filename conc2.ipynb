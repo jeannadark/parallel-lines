{
 "cells": [
  {
   "cell_type": "markdown",
   "metadata": {},
   "source": [
    "### Deadlocks"
   ]
  },
  {
   "cell_type": "code",
   "execution_count": 1,
   "metadata": {},
   "outputs": [],
   "source": [
    "import threading"
   ]
  },
  {
   "cell_type": "code",
   "execution_count": 2,
   "metadata": {},
   "outputs": [],
   "source": [
    "lock_1 = threading.Lock()\n",
    "lock_2 = threading.Lock()"
   ]
  },
  {
   "cell_type": "code",
   "execution_count": 10,
   "metadata": {},
   "outputs": [],
   "source": [
    "def time():\n",
    "    while True:\n",
    "        with lock_1.acquire():\n",
    "            with lock_2.acquire():\n",
    "                print(\"Time\")\n",
    "\n",
    "def space():\n",
    "    while True:\n",
    "        with lock_2.acquire():\n",
    "            with lock_1.acquire():\n",
    "                print(\"Space\")"
   ]
  },
  {
   "cell_type": "code",
   "execution_count": 11,
   "metadata": {},
   "outputs": [],
   "source": [
    "t1 = threading.Thread(target = time)\n",
    "t1.daemon = True"
   ]
  },
  {
   "cell_type": "code",
   "execution_count": 12,
   "metadata": {},
   "outputs": [],
   "source": [
    "t2 = threading.Thread(target = space)\n",
    "t2.daemon = True"
   ]
  },
  {
   "cell_type": "code",
   "execution_count": 13,
   "metadata": {},
   "outputs": [
    {
     "name": "stderr",
     "output_type": "stream",
     "text": [
      "Exception in thread Thread-8:\n",
      "Traceback (most recent call last):\n",
      "  File \"C:\\Users\\janizd\\AppData\\Local\\Continuum\\anaconda3\\lib\\threading.py\", line 917, in _bootstrap_inner\n",
      "    self.run()\n",
      "  File \"C:\\Users\\janizd\\AppData\\Local\\Continuum\\anaconda3\\lib\\threading.py\", line 865, in run\n",
      "    self._target(*self._args, **self._kwargs)\n",
      "  File \"<ipython-input-10-6876b8dcffd0>\", line 3, in time\n",
      "    with lock_1.acquire():\n",
      "AttributeError: __enter__\n",
      "\n",
      "Exception in thread Thread-9:\n",
      "Traceback (most recent call last):\n",
      "  File \"C:\\Users\\janizd\\AppData\\Local\\Continuum\\anaconda3\\lib\\threading.py\", line 917, in _bootstrap_inner\n",
      "    self.run()\n",
      "  File \"C:\\Users\\janizd\\AppData\\Local\\Continuum\\anaconda3\\lib\\threading.py\", line 865, in run\n",
      "    self._target(*self._args, **self._kwargs)\n",
      "  File \"<ipython-input-10-6876b8dcffd0>\", line 9, in space\n",
      "    with lock_2.acquire():\n",
      "AttributeError: __enter__\n",
      "\n"
     ]
    }
   ],
   "source": [
    "t1.start()\n",
    "t2.start()"
   ]
  },
  {
   "cell_type": "code",
   "execution_count": 14,
   "metadata": {},
   "outputs": [],
   "source": [
    "timeout_window = 0.2"
   ]
  },
  {
   "cell_type": "code",
   "execution_count": 15,
   "metadata": {},
   "outputs": [],
   "source": [
    "def time():\n",
    "    while True:\n",
    "        with lock_1.acquire(timeout = timeout_window):\n",
    "            with lock_2.acquire(timeout = timeout_window):\n",
    "                print(\"Time\")\n",
    "\n",
    "def space():\n",
    "    while True:\n",
    "        with lock_2.acquire(timeout = timeout_window):\n",
    "            with lock_1.acquire(timeout = timeout_window):\n",
    "                print(\"Space\")"
   ]
  },
  {
   "cell_type": "code",
   "execution_count": 16,
   "metadata": {},
   "outputs": [],
   "source": [
    "t1 = threading.Thread(target = time)\n",
    "t1.daemon = True\n",
    "t2 = threading.Thread(target = space)\n",
    "t2.daemon = True"
   ]
  },
  {
   "cell_type": "code",
   "execution_count": 17,
   "metadata": {},
   "outputs": [
    {
     "name": "stderr",
     "output_type": "stream",
     "text": [
      "Exception in thread Thread-10:\n",
      "Traceback (most recent call last):\n",
      "  File \"C:\\Users\\janizd\\AppData\\Local\\Continuum\\anaconda3\\lib\\threading.py\", line 917, in _bootstrap_inner\n",
      "    self.run()\n",
      "  File \"C:\\Users\\janizd\\AppData\\Local\\Continuum\\anaconda3\\lib\\threading.py\", line 865, in run\n",
      "    self._target(*self._args, **self._kwargs)\n",
      "  File \"<ipython-input-15-858ab0ad7f72>\", line 3, in time\n",
      "    with lock_1.acquire(timeout = timeout_window):\n",
      "AttributeError: __enter__\n",
      "Exception in thread Thread-11:\n",
      "Traceback (most recent call last):\n",
      "  File \"C:\\Users\\janizd\\AppData\\Local\\Continuum\\anaconda3\\lib\\threading.py\", line 917, in _bootstrap_inner\n",
      "    self.run()\n",
      "  File \"C:\\Users\\janizd\\AppData\\Local\\Continuum\\anaconda3\\lib\\threading.py\", line 865, in run\n",
      "    self._target(*self._args, **self._kwargs)\n",
      "  File \"<ipython-input-15-858ab0ad7f72>\", line 9, in space\n",
      "    with lock_2.acquire(timeout = timeout_window):\n",
      "AttributeError: __enter__\n",
      "\n",
      "\n"
     ]
    }
   ],
   "source": [
    "t1.start()\n",
    "t2.start()"
   ]
  },
  {
   "cell_type": "markdown",
   "metadata": {},
   "source": [
    "### Producer-Consumer Model"
   ]
  },
  {
   "cell_type": "code",
   "execution_count": 29,
   "metadata": {},
   "outputs": [],
   "source": [
    "import time\n",
    "import random\n",
    "from threading import Thread, Condition"
   ]
  },
  {
   "cell_type": "code",
   "execution_count": 30,
   "metadata": {},
   "outputs": [],
   "source": [
    "my_queue = []\n",
    "capacity = 30\n",
    "condition = Condition()"
   ]
  },
  {
   "cell_type": "code",
   "execution_count": 31,
   "metadata": {},
   "outputs": [],
   "source": [
    "class Producer(Thread):\n",
    "    def run(self):\n",
    "        global my_queue\n",
    "        tokens = range(10,50)\n",
    "        \n",
    "        while True:\n",
    "            condition.acquire()\n",
    "            if len(my_queue) == capacity:\n",
    "                print(\"Our queue is full; producer, please wait.\")\n",
    "                condition.wait()\n",
    "                print(\"Space exists now; consumer notified the producer.\")\n",
    "            token = random.choice(tokens)\n",
    "            my_queue.append(token)\n",
    "            print(\"Producer added \", token)\n",
    "            condition.notify()\n",
    "            condition.release()\n",
    "            time.sleep(1)"
   ]
  },
  {
   "cell_type": "code",
   "execution_count": 32,
   "metadata": {},
   "outputs": [],
   "source": [
    "class Consumer(Thread):\n",
    "    def run(self):\n",
    "        global my_queue\n",
    "        \n",
    "        while True:\n",
    "            condition.acquire()\n",
    "            if len(my_queue)==0:\n",
    "                print(\"Empty queue; consumer, please wait.\")\n",
    "                condition.wait()\n",
    "                print(\"Producer added to queue & notified the consumer.\")\n",
    "            token = my_queue.pop(0)\n",
    "            print(\"Consumer took \", token)\n",
    "            condition.notify()\n",
    "            condition.release()\n",
    "            time.sleep(2)"
   ]
  },
  {
   "cell_type": "code",
   "execution_count": 33,
   "metadata": {},
   "outputs": [
    {
     "name": "stdout",
     "output_type": "stream",
     "text": [
      "Producer added  18\n",
      "Consumer took  18\n",
      "Producer added  44\n",
      "Consumer took  44\n",
      "Producer added  36\n",
      "Producer added  24\n",
      "Consumer took  36\n",
      "Producer added  44\n",
      "Producer added  31\n",
      "Consumer took  24\n",
      "Producer added  29\n",
      "Producer added  23\n",
      "Consumer took  44\n",
      "Producer added  49\n",
      "Producer added  44\n",
      "Consumer took  31\n",
      "Producer added  33\n",
      "Producer added  10\n",
      "Consumer took  29\n",
      "Producer added  27\n",
      "Producer added  13\n",
      "Consumer took  23\n",
      "Producer added  15\n",
      "Producer added  28\n",
      "Consumer took  49\n",
      "Producer added  12\n",
      "Producer added  44\n",
      "Consumer took  44\n",
      "Producer added  48\n",
      "Producer added  15\n",
      "Consumer took  33\n",
      "Producer added  35\n",
      "Producer added  42\n",
      "Consumer took  10\n",
      "Producer added  30\n",
      "Producer added  24\n",
      "Consumer took  27\n",
      "Producer added  11\n",
      "Producer added  12\n",
      "Consumer took  13\n",
      "Producer added  34\n",
      "Producer added  48\n",
      "Consumer took  15\n",
      "Producer added  37\n",
      "Producer added  30\n"
     ]
    }
   ],
   "source": [
    "t1 = Producer().start()\n",
    "t2 = Consumer().start()"
   ]
  }
 ],
 "metadata": {
  "kernelspec": {
   "display_name": "Python 3",
   "language": "python",
   "name": "python3"
  },
  "language_info": {
   "codemirror_mode": {
    "name": "ipython",
    "version": 3
   },
   "file_extension": ".py",
   "mimetype": "text/x-python",
   "name": "python",
   "nbconvert_exporter": "python",
   "pygments_lexer": "ipython3",
   "version": "3.7.3"
  }
 },
 "nbformat": 4,
 "nbformat_minor": 4
}
