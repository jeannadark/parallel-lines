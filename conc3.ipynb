{
 "cells": [
  {
   "cell_type": "markdown",
   "metadata": {},
   "source": [
    "## Creating Processes"
   ]
  },
  {
   "cell_type": "code",
   "execution_count": null,
   "metadata": {},
   "outputs": [],
   "source": [
    "import multiprocessing"
   ]
  },
  {
   "cell_type": "code",
   "execution_count": null,
   "metadata": {},
   "outputs": [],
   "source": [
    "def find_area_square(x):\n",
    "    \n",
    "    print(\"Area is \", x*x)"
   ]
  },
  {
   "cell_type": "code",
   "execution_count": null,
   "metadata": {},
   "outputs": [],
   "source": [
    "def find_volume_cube(x):\n",
    "    \n",
    "    print(\"Volume is \", x*x*x)"
   ]
  },
  {
   "cell_type": "code",
   "execution_count": null,
   "metadata": {},
   "outputs": [],
   "source": [
    "p1 = multiprocessing.Process(target = find_area_square, args = (5,))\n",
    "p2 = multiprocessing.Process(target = find_volume_cube, args = (5,))"
   ]
  },
  {
   "cell_type": "code",
   "execution_count": null,
   "metadata": {},
   "outputs": [],
   "source": [
    "p1.start()"
   ]
  },
  {
   "cell_type": "code",
   "execution_count": null,
   "metadata": {},
   "outputs": [],
   "source": [
    "p2.start()"
   ]
  },
  {
   "cell_type": "code",
   "execution_count": null,
   "metadata": {},
   "outputs": [],
   "source": [
    "p1.join()\n",
    "p2.join()"
   ]
  },
  {
   "cell_type": "code",
   "execution_count": null,
   "metadata": {},
   "outputs": [],
   "source": [
    "p1.is_alive()"
   ]
  },
  {
   "cell_type": "markdown",
   "metadata": {},
   "source": [
    "## Process Communication"
   ]
  },
  {
   "cell_type": "code",
   "execution_count": null,
   "metadata": {},
   "outputs": [],
   "source": [
    "data = []"
   ]
  },
  {
   "cell_type": "code",
   "execution_count": null,
   "metadata": {},
   "outputs": [],
   "source": [
    "def find_area_square_2(x):\n",
    "    global data\n",
    "    \n",
    "    data.append(x*x)\n",
    "    print(\"Added \", x*x)"
   ]
  },
  {
   "cell_type": "code",
   "execution_count": null,
   "metadata": {},
   "outputs": [],
   "source": [
    "p3 = multiprocessing.Process(target = find_area_square_2, args = (10,))\n",
    "p4 = multiprocessing.Process(target = find_area_square_2, args = (100,))"
   ]
  },
  {
   "cell_type": "code",
   "execution_count": null,
   "metadata": {},
   "outputs": [],
   "source": [
    "p3.start()\n",
    "p4.start()\n",
    "p3.join()\n",
    "p4.join()"
   ]
  },
  {
   "cell_type": "code",
   "execution_count": null,
   "metadata": {},
   "outputs": [],
   "source": [
    "print(data)"
   ]
  },
  {
   "cell_type": "markdown",
   "metadata": {},
   "source": [
    "## Shared Memory"
   ]
  },
  {
   "cell_type": "code",
   "execution_count": null,
   "metadata": {},
   "outputs": [],
   "source": [
    "def find_cubes(newlist, data, val):\n",
    "    for idx, n in enumerate(newlist):\n",
    "        data[idx] =  n**3\n",
    "    val.value = sum(data)\n",
    "    print(\"Data in process is \", data[:])\n",
    "    print(\"Value in process is \", val.value)\n",
    "    \n",
    "    \n",
    "if __name__ == \"__main__\": \n",
    "    data = multiprocessing.Array('i', 3)\n",
    "\n",
    "    val = multiprocessing.Value('i')\n",
    "    newlist = [30,40,50]\n",
    "    p5 = multiprocessing.Process(target = find_cubes, args = (newlist, data, val))\n",
    "    p5.start()\n",
    "    p5.join()\n",
    "    print('Main program value is ', val.value)\n",
    "    print('Main program data is ', data[:])"
   ]
  },
  {
   "cell_type": "markdown",
   "metadata": {},
   "source": [
    "## Managers"
   ]
  },
  {
   "cell_type": "code",
   "execution_count": null,
   "metadata": {},
   "outputs": [],
   "source": [
    "def add_squared_num(x, newlist):\n",
    "    newlist.append(x**2)\n",
    "    print(newlist)"
   ]
  },
  {
   "cell_type": "code",
   "execution_count": null,
   "metadata": {},
   "outputs": [],
   "source": [
    "if __name__ == '__main__': \n",
    "    with multiprocessing.Manager() as manager: \n",
    "        \n",
    "        data = manager.list([30, 40, 50])\n",
    "        \n",
    "        new_x = 60\n",
    "        new_x_2 = 70\n",
    "        \n",
    "        p1 = multiprocessing.Process(target=add_squared_num, args=(new_x, data)) \n",
    "        p2 = multiprocessing.Process(target=add_squared_num, args=(new_x_2, data))\n",
    "        \n",
    "        p1.start()\n",
    "        p2.start()\n",
    "        \n",
    "        p1.join()\n",
    "        p2.join()\n",
    "        \n",
    "        print(data)"
   ]
  },
  {
   "cell_type": "markdown",
   "metadata": {},
   "source": [
    "## Queues"
   ]
  },
  {
   "cell_type": "code",
   "execution_count": null,
   "metadata": {},
   "outputs": [],
   "source": [
    "def add_a_cube(newlist, q): \n",
    "\n",
    "     \n",
    "    for n in newlist: \n",
    "        q.put(n **3) \n",
    "  \n",
    "def print_queue(q): \n",
    "    print(\"Queue elements:\") \n",
    "    while not q.empty(): \n",
    "        print(q.get()) \n",
    "    print(\"Queue has emptied!\") \n",
    "  \n",
    "if __name__ == \"__main__\": \n",
    "    # input list \n",
    "    mylist = [1,2,3,4] \n",
    "  \n",
    "    \n",
    "    q = multiprocessing.Queue() \n",
    "  \n",
    "    \n",
    "    p1 = multiprocessing.Process(target=add_a_cube, args=(mylist, q)) \n",
    "    p2 = multiprocessing.Process(target=print_queue, args=(q,)) \n",
    "  \n",
    "    \n",
    "    p1.start() \n",
    "    p1.join() \n",
    "  \n",
    "   \n",
    "    p2.start() \n",
    "    p2.join() "
   ]
  },
  {
   "cell_type": "markdown",
   "metadata": {},
   "source": [
    "## Pipes"
   ]
  },
  {
   "cell_type": "code",
   "execution_count": null,
   "metadata": {},
   "outputs": [],
   "source": [
    "def sender(conn, messages):\n",
    "    for message in messages:\n",
    "        conn.send(message)\n",
    "        print(\"Send this \", message)\n",
    "    conn.close()"
   ]
  },
  {
   "cell_type": "code",
   "execution_count": null,
   "metadata": {},
   "outputs": [],
   "source": [
    "def receiver(conn):\n",
    "    while 1:\n",
    "        message = conn.recv()\n",
    "        if message == 'END':\n",
    "            breaj\n",
    "        print(\"Received this \", message)"
   ]
  },
  {
   "cell_type": "code",
   "execution_count": null,
   "metadata": {},
   "outputs": [],
   "source": [
    "if __name__ == \"__main__\":\n",
    "    messages = [\"hello\", \"can you hear me?\", \"I'm in California\", \"Waiting?\", \"Thinking about how we used to be\"]\n",
    "    \n",
    "    parent_conn, child_conn = multiprocessing.Pipe()\n",
    "    p1 = multiprocessing.Process(target = sender, args = (parent_conn, messages))\n",
    "    p2 = multiprocessing.Process(target = receiver, args = (child_conn,))\n",
    "    \n",
    "    p1.start()\n",
    "    p2.start()\n",
    "    \n",
    "    p1.join()\n",
    "    p2.join()"
   ]
  },
  {
   "cell_type": "markdown",
   "metadata": {},
   "source": [
    "## Synchronization"
   ]
  },
  {
   "cell_type": "code",
   "execution_count": null,
   "metadata": {},
   "outputs": [],
   "source": [
    "def find_num(newlist, data, val):\n",
    "    for idx, n in enumerate(newlist):\n",
    "        data[idx] =  n+3\n",
    "    val.value = sum(data)\n",
    "    print(\"Data in process 5 is \", data[:])\n",
    "    \n",
    "    \n",
    "def subtract_val(newlist, data, val):\n",
    "    for idx, n in enumerate(newlist):\n",
    "        data[idx] = n-3\n",
    "    print(\"Data in process 6 is \", data[:])\n",
    "    \n",
    "    \n",
    "if __name__ == \"__main__\": \n",
    "    data = multiprocessing.Array('i', 3)\n",
    "\n",
    "    val = multiprocessing.Value('i')\n",
    "    newlist = [30,40,50]\n",
    "    p5 = multiprocessing.Process(target = find_num, args = (newlist, data, val))\n",
    "    p6 = multiprocessing.Process(target = subtract_val, args = (newlist, data, val))\n",
    "    p5.start()\n",
    "    p6.start()\n",
    "    p5.join()\n",
    "    p6.join()\n",
    "    print('Main program value is ', val.value)\n",
    "    print('Main program data is ', data[:])"
   ]
  },
  {
   "cell_type": "code",
   "execution_count": null,
   "metadata": {},
   "outputs": [],
   "source": [
    "def find_num(newlist, data, val, lock):\n",
    "    for idx, n in enumerate(newlist):\n",
    "        lock.acquire()\n",
    "        data[idx] =  n+3\n",
    "        lock.release()\n",
    "    print(\"Data in process 5 is \", data[:])\n",
    "    \n",
    "    \n",
    "def subtract_val(newlist, data, val, lock):\n",
    "    for idx, n in enumerate(newlist):\n",
    "        lock.acquire()\n",
    "        data[idx] = n-3\n",
    "        lock.release()\n",
    "    print(\"Data in process 6 is \", data[:])\n",
    "    \n",
    "    \n",
    "if __name__ == \"__main__\": \n",
    "    data = multiprocessing.Array('i', 3)\n",
    "\n",
    "    val = multiprocessing.Value('i')\n",
    "    newlist = [30,40,50]\n",
    "    lock = multiprocessing.Lock() \n",
    "    p5 = multiprocessing.Process(target = find_num, args = (newlist, data, val, lock))\n",
    "    p6 = multiprocessing.Process(target = subtract_val, args = (newlist, data, val, lock))\n",
    "    p5.start()\n",
    "    p6.start()\n",
    "    p5.join()\n",
    "    p6.join()\n",
    "    print('Main program value is ', val.value)\n",
    "    print('Main program data is ', data[:])"
   ]
  },
  {
   "cell_type": "markdown",
   "metadata": {},
   "source": [
    "## Pooling"
   ]
  },
  {
   "cell_type": "code",
   "execution_count": null,
   "metadata": {},
   "outputs": [],
   "source": [
    "import multiprocessing\n",
    "\n",
    "\n",
    "def cubed(n): \n",
    "    \n",
    "    return n**3 \n",
    "  \n",
    "if __name__ == \"__main__\": \n",
    "     \n",
    "    newlist = [30,40,50] \n",
    "  \n",
    "    p = multiprocessing.Pool() \n",
    "    result = p.map(cubed, newlist) \n",
    "  \n",
    "    print(result) \n",
    "    print(p.)\n",
    "    \n",
    "    \n",
    "    \n",
    "    "
   ]
  },
  {
   "cell_type": "code",
   "execution_count": null,
   "metadata": {},
   "outputs": [],
   "source": []
  }
 ],
 "metadata": {
  "kernelspec": {
   "display_name": "Python 3",
   "language": "python",
   "name": "python3"
  },
  "language_info": {
   "codemirror_mode": {
    "name": "ipython",
    "version": 3
   },
   "file_extension": ".py",
   "mimetype": "text/x-python",
   "name": "python",
   "nbconvert_exporter": "python",
   "pygments_lexer": "ipython3",
   "version": "3.7.3"
  }
 },
 "nbformat": 4,
 "nbformat_minor": 4
}
